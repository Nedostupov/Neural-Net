{
 "cells": [
  {
   "cell_type": "markdown",
   "id": "b4c39c04",
   "metadata": {},
   "source": [
    "__1.__ \n",
    "Обучить нейронную сеть YOLOv3 из ImageAI на любом датасете.\n",
    "\n",
    "__2.__ Сделайте краткий обзор какой-нибудь научной работы, посвященной алгоритму для object detection, который не рассматривался на уроке. Проведите анализ: Чем отличается выбранная вами архитектура нейронной сети от других архитектур? В чем плюсы и минусы данной архитектуры? Какие могут возникнуть трудности при применении данной архитектуры на практике?"
   ]
  },
  {
   "cell_type": "markdown",
   "id": "183a3e58",
   "metadata": {},
   "source": [
    "Заглушка"
   ]
  }
 ],
 "metadata": {
  "kernelspec": {
   "display_name": "Python 3 (ipykernel)",
   "language": "python",
   "name": "python3"
  },
  "language_info": {
   "codemirror_mode": {
    "name": "ipython",
    "version": 3
   },
   "file_extension": ".py",
   "mimetype": "text/x-python",
   "name": "python",
   "nbconvert_exporter": "python",
   "pygments_lexer": "ipython3",
   "version": "3.9.7"
  }
 },
 "nbformat": 4,
 "nbformat_minor": 5
}
