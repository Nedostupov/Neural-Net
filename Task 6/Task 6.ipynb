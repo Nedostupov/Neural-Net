{
 "cells": [
  {
   "cell_type": "markdown",
   "id": "5da8ea69",
   "metadata": {},
   "source": [
    "1. Попробуйте обучить нейронную сеть U-Net на любом другом датасете.\n",
    "\n",
    "2. Опишите в комментарии - какого результата вы добились от нейросети? Что помогло вам улучшить ее точность?"
   ]
  },
  {
   "cell_type": "markdown",
   "id": "c720a5d6",
   "metadata": {},
   "source": [
    "Заглушка"
   ]
  }
 ],
 "metadata": {
  "kernelspec": {
   "display_name": "Python 3 (ipykernel)",
   "language": "python",
   "name": "python3"
  },
  "language_info": {
   "codemirror_mode": {
    "name": "ipython",
    "version": 3
   },
   "file_extension": ".py",
   "mimetype": "text/x-python",
   "name": "python",
   "nbconvert_exporter": "python",
   "pygments_lexer": "ipython3",
   "version": "3.9.7"
  }
 },
 "nbformat": 4,
 "nbformat_minor": 5
}
